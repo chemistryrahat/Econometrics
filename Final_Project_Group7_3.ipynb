{
 "cells": [
  {
   "cell_type": "code",
   "execution_count": 136,
   "metadata": {},
   "outputs": [],
   "source": [
    "import pandas as pd\n",
    "import seaborn as sns\n",
    "import numpy as np\n",
    "import matplotlib.pyplot as plt\n",
    "import pygal\n",
    "from IPython.display import SVG\n",
    "from IPython.display import HTML\n",
    "from sklearn import preprocessing\n",
    "import matplotlib.pyplot as plt \n",
    "plt.rc(\"font\", size=14)\n",
    "from sklearn.linear_model import LogisticRegression\n",
    "from sklearn.model_selection import train_test_split"
   ]
  },
  {
   "cell_type": "markdown",
   "metadata": {},
   "source": [
    "### Regional Map of vaccination"
   ]
  },
  {
   "cell_type": "markdown",
   "metadata": {},
   "source": [
    "Data from :https://www.sortiraparis.com/actualites/a-paris/articles/239732-vaccination-en-france-ou-en-est-on-le-jeudi-10-juin-2021-nombre-de-vaccines-par-"
   ]
  },
  {
   "cell_type": "code",
   "execution_count": 137,
   "metadata": {},
   "outputs": [],
   "source": [
    "data = {'Region': ['ile de france', 'provence alpes cote d azur', 'pays de la loire', 'bretagne','centre val de loire','reunion','corse'], 'cumulated': [0, 0, 0, 0,0,0,0]} \n",
    "df4 = pd.DataFrame(data)\n",
    "df4.index = df4['Region']\n",
    "df4 = df4.rename(index={'ile de france': '11', 'provence alpes cote d azur' : '93', 'pays de la loire':'52', 'bretagne':'53',\n",
    "                       'centre val de loire': '24', 'reunion': '04', 'corse': '94'})\n",
    "df4 = df4.cumulated\n",
    "df4 = pd.DataFrame(df4)"
   ]
  },
  {
   "cell_type": "markdown",
   "metadata": {},
   "source": [
    "##### Grand Est"
   ]
  },
  {
   "cell_type": "code",
   "execution_count": 138,
   "metadata": {},
   "outputs": [],
   "source": [
    "\n",
    "x = 2424389 / 3 \n",
    "x = int(x)\n",
    "df_grandEST = pd.DataFrame({'cumulated': [x,x,x]}, index = ['21', '41', '42'])\n",
    "df4 = df4.append(df_grandEST)"
   ]
  },
  {
   "cell_type": "markdown",
   "metadata": {},
   "source": [
    "##### Auvergne Rhone Alpes"
   ]
  },
  {
   "cell_type": "code",
   "execution_count": 139,
   "metadata": {},
   "outputs": [],
   "source": [
    "y = 3473537 / 2\n",
    "y = int(y)\n",
    "df_AUVRA = pd.DataFrame({'cumulated': [y,y]}, index = ['82', '83'])\n",
    "df4 = df4.append(df_AUVRA)"
   ]
  },
  {
   "cell_type": "code",
   "execution_count": 140,
   "metadata": {},
   "outputs": [
    {
     "data": {
      "text/html": [
       "<div>\n",
       "<style scoped>\n",
       "    .dataframe tbody tr th:only-of-type {\n",
       "        vertical-align: middle;\n",
       "    }\n",
       "\n",
       "    .dataframe tbody tr th {\n",
       "        vertical-align: top;\n",
       "    }\n",
       "\n",
       "    .dataframe thead th {\n",
       "        text-align: right;\n",
       "    }\n",
       "</style>\n",
       "<table border=\"1\" class=\"dataframe\">\n",
       "  <thead>\n",
       "    <tr style=\"text-align: right;\">\n",
       "      <th></th>\n",
       "      <th>cumulated</th>\n",
       "    </tr>\n",
       "  </thead>\n",
       "  <tbody>\n",
       "    <tr>\n",
       "      <th>11</th>\n",
       "      <td>0</td>\n",
       "    </tr>\n",
       "    <tr>\n",
       "      <th>93</th>\n",
       "      <td>0</td>\n",
       "    </tr>\n",
       "    <tr>\n",
       "      <th>52</th>\n",
       "      <td>0</td>\n",
       "    </tr>\n",
       "    <tr>\n",
       "      <th>53</th>\n",
       "      <td>0</td>\n",
       "    </tr>\n",
       "    <tr>\n",
       "      <th>24</th>\n",
       "      <td>0</td>\n",
       "    </tr>\n",
       "    <tr>\n",
       "      <th>04</th>\n",
       "      <td>0</td>\n",
       "    </tr>\n",
       "    <tr>\n",
       "      <th>94</th>\n",
       "      <td>0</td>\n",
       "    </tr>\n",
       "    <tr>\n",
       "      <th>21</th>\n",
       "      <td>808129</td>\n",
       "    </tr>\n",
       "    <tr>\n",
       "      <th>41</th>\n",
       "      <td>808129</td>\n",
       "    </tr>\n",
       "    <tr>\n",
       "      <th>42</th>\n",
       "      <td>808129</td>\n",
       "    </tr>\n",
       "    <tr>\n",
       "      <th>82</th>\n",
       "      <td>1736768</td>\n",
       "    </tr>\n",
       "    <tr>\n",
       "      <th>83</th>\n",
       "      <td>1736768</td>\n",
       "    </tr>\n",
       "  </tbody>\n",
       "</table>\n",
       "</div>"
      ],
      "text/plain": [
       "    cumulated\n",
       "11          0\n",
       "93          0\n",
       "52          0\n",
       "53          0\n",
       "24          0\n",
       "04          0\n",
       "94          0\n",
       "21     808129\n",
       "41     808129\n",
       "42     808129\n",
       "82    1736768\n",
       "83    1736768"
      ]
     },
     "execution_count": 140,
     "metadata": {},
     "output_type": "execute_result"
    }
   ],
   "source": [
    "df4"
   ]
  },
  {
   "cell_type": "markdown",
   "metadata": {},
   "source": [
    "##### Occitanie"
   ]
  },
  {
   "cell_type": "code",
   "execution_count": 141,
   "metadata": {},
   "outputs": [],
   "source": [
    "z = 2559370 / 2\n",
    "z = int(z)\n",
    "df_OCCI = pd.DataFrame({'cumulated': [z,z]}, index = ['73', '91'])\n",
    "df4 = df4.append(df_OCCI)"
   ]
  },
  {
   "cell_type": "markdown",
   "metadata": {},
   "source": [
    "##### Nouvelle Acquitaine"
   ]
  },
  {
   "cell_type": "code",
   "execution_count": 142,
   "metadata": {},
   "outputs": [],
   "source": [
    "w = 2791137 / 3\n",
    "w = int(w)\n",
    "df_nouvelleAC= pd.DataFrame({'cumulated': [w,w,w]}, index = ['54', '72','74'])\n",
    "df4 = df4.append(df_nouvelleAC)"
   ]
  },
  {
   "cell_type": "markdown",
   "metadata": {},
   "source": [
    "##### Normandie"
   ]
  },
  {
   "cell_type": "code",
   "execution_count": 143,
   "metadata": {},
   "outputs": [],
   "source": [
    "v = 1543540 / 2\n",
    "v = int(v)\n",
    "df_normandie= pd.DataFrame({'cumulated': [v,v]}, index = ['23', '25'])\n",
    "df4 = df4.append(df_normandie)\n"
   ]
  },
  {
   "cell_type": "markdown",
   "metadata": {},
   "source": [
    "#### Hauts de France"
   ]
  },
  {
   "cell_type": "code",
   "execution_count": 144,
   "metadata": {},
   "outputs": [],
   "source": [
    "a = 2631848 / 2\n",
    "a = int(a)\n",
    "df_hautsdefrance = pd.DataFrame({'cumulated': [a,a]}, index = ['22', '31'])\n",
    "df4 = df4.append(df_hautsdefrance)"
   ]
  },
  {
   "cell_type": "markdown",
   "metadata": {},
   "source": [
    "##### Bourgogne Franche Comté"
   ]
  },
  {
   "cell_type": "code",
   "execution_count": 145,
   "metadata": {},
   "outputs": [],
   "source": [
    "b = 1213405 / 2\n",
    "b = int(b)\n",
    "df_bourgognefranche = pd.DataFrame({'cumulated': [b,b]}, index = ['26', '43'])\n",
    "df4 = df4.append(df_bourgognefranche)"
   ]
  },
  {
   "cell_type": "markdown",
   "metadata": {},
   "source": [
    "#### Finalising"
   ]
  },
  {
   "cell_type": "code",
   "execution_count": 146,
   "metadata": {},
   "outputs": [],
   "source": [
    "df4.loc['11'] = 5038000\n",
    "df4.loc['53'] = 1539241\n",
    "df4.loc['94'] = 152946\n",
    "df4.loc['52'] = 1679557\n",
    "df4.loc['93']= 2134982\n",
    "df4.loc['24']=1133263"
   ]
  },
  {
   "cell_type": "code",
   "execution_count": 148,
   "metadata": {},
   "outputs": [],
   "source": [
    "df4 = df4.cumulated"
   ]
  },
  {
   "cell_type": "code",
   "execution_count": 149,
   "metadata": {},
   "outputs": [
    {
     "data": {
      "text/plain": [
       "11    5038000\n",
       "93    2134982\n",
       "52    1679557\n",
       "53    1539241\n",
       "24    1133263\n",
       "04          0\n",
       "94     152946\n",
       "21     808129\n",
       "41     808129\n",
       "42     808129\n",
       "82    1736768\n",
       "83    1736768\n",
       "73    1279685\n",
       "91    1279685\n",
       "54     930379\n",
       "72     930379\n",
       "74     930379\n",
       "23     771770\n",
       "25     771770\n",
       "22    1315924\n",
       "31    1315924\n",
       "26     606702\n",
       "43     606702\n",
       "Name: cumulated, dtype: int64"
      ]
     },
     "execution_count": 149,
     "metadata": {},
     "output_type": "execute_result"
    }
   ],
   "source": [
    "df4"
   ]
  },
  {
   "cell_type": "markdown",
   "metadata": {},
   "source": [
    "#### AUTRES"
   ]
  },
  {
   "cell_type": "code",
   "execution_count": 150,
   "metadata": {
    "scrolled": true
   },
   "outputs": [
    {
     "name": "stdout",
     "output_type": "stream",
     "text": [
      "file:///var/folders/49/f_qw1kxs74s2tgccq74fb0y00000gn/T/tmpd47hfsml.html\n"
     ]
    }
   ],
   "source": [
    "from pygal.maps.fr import aggregate_regions\n",
    "from pygal.style import Style\n",
    "\n",
    "  # Write the chart in the specified file\n",
    "custom_style = Style(\n",
    "  background='transparent',\n",
    "  plot_background='transparent',\n",
    "  foreground='#53E89B',\n",
    "  foreground_strong='#53A0E8',\n",
    "  foreground_subtle='#630C0D',\n",
    "  opacity='500',\n",
    "  opacity_hover='10',\n",
    "  transition='400ms ease-in')\n",
    "\n",
    "\n",
    "fr_chart = pygal.maps.fr.Regions(human_readable=True, height=300, style=custom_style)\n",
    "fr_chart.title = 'Number of Vaccination'\n",
    "fr_chart.add(\"Number of Vaccination\", {'11': int(df4.loc['11']),'21': int(df4.loc['21']),'22': int(df4.loc['22']), '23': int(df4.loc['23']),'24': int(df4.loc['24']),'25': int(df4.loc['25']), '26': int(df4.loc['26']), \n",
    "             '43' : int(df4.loc['43']), '31' : int(df4.loc['31']), '74' : int(df4.loc['74']), '72': int(df4.loc['72']), '54': int(df4.loc['54']), '91' : int(df4.loc['91']),\n",
    "             '73' : int(df4.loc['73']), '83': int(df4.loc['83']), '82': int(df4.loc['82']), '42' : int(df4.loc['42']), '41': int(df4.loc['41']), '94': int(df4.loc['94']),\n",
    "             '53': int(df4.loc['53']), '52': int(df4.loc['52']), '93': int(df4.loc['93'])})\n",
    "svg = fr_chart.render()\n",
    "SVG(svg)\n",
    "html_pygal = \"\"\"\n",
    "<!DOCTYPEg>\n",
    "<html>\n",
    "  <head>\n",
    "    <script type=\"text/javascript\" src=\"http://kozea.github.com/pygal.js/latest/pygal-tooltips.min.js\"></script>\n",
    "    <!-- ... -->\n",
    "  </head>\n",
    "  <body>\n",
    "    <figure>\n",
    "      {0}\n",
    "    </figure>\n",
    "  </body>\n",
    "</html>\n",
    "\"\"\"\n",
    "HTML(html_pygal.format(svg.decode(\"utf-8\")))\n",
    "  # Write the chart in the specified file\n",
    "fr_chart.render_in_browser()"
   ]
  }
 ],
 "metadata": {
  "kernelspec": {
   "display_name": "Python 3",
   "language": "python",
   "name": "python3"
  },
  "language_info": {
   "codemirror_mode": {
    "name": "ipython",
    "version": 3
   },
   "file_extension": ".py",
   "mimetype": "text/x-python",
   "name": "python",
   "nbconvert_exporter": "python",
   "pygments_lexer": "ipython3",
   "version": "3.8.5"
  }
 },
 "nbformat": 4,
 "nbformat_minor": 4
}
